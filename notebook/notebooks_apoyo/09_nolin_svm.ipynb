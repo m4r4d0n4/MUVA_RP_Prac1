{
 "cells": [
  {
   "cell_type": "code",
   "execution_count": 1,
   "id": "3f504b67-7ebd-45c7-862f-46a42d6a7d9f",
   "metadata": {},
   "outputs": [],
   "source": [
    "import numpy as np\n",
    "import pandas as pd\n",
    "from sklearn.decomposition import PCA\n",
    "from sklearn.model_selection import train_test_split\n",
    "from sklearn.preprocessing import StandardScaler, MinMaxScaler, PolynomialFeatures\n",
    "from sklearn.manifold import LocallyLinearEmbedding, Isomap, TSNE\n",
    "from sklearn.pipeline import FeatureUnion, Pipeline\n",
    "from sklearn.preprocessing import FunctionTransformer\n",
    "from sklearn.base import BaseEstimator, TransformerMixin\n",
    "from sklearn.linear_model import LinearRegression, LogisticRegression, Perceptron\n",
    "from sklearn.svm import LinearSVC, NuSVC, LinearSVR, NuSVR, SVC\n",
    "from sklearn.metrics import confusion_matrix, precision_recall_curve, roc_curve\n",
    "import matplotlib.pyplot as plt\n",
    "\n",
    "#########################################################################\n",
    "\n",
    "pathStr = \"../datasets/\"\n",
    "[file_X, file_Y] = [pathStr+'setX_0vs1.csv', pathStr+'setY_0vs1.csv']\n",
    "X_init = pd.read_csv(file_X, sep=';', header=None, dtype=int)\n",
    "Y_init = pd.read_csv(file_Y, sep=';', header=None, dtype=int)\n",
    "\n",
    "X_train_init, X_test_init, Y_train_init, Y_test_init = train_test_split(X_init, Y_init, test_size=0.33, random_state=1234)"
   ]
  },
  {
   "cell_type": "code",
   "execution_count": 2,
   "id": "e2a02d5f-ba96-46eb-9df8-ba894269cf6b",
   "metadata": {},
   "outputs": [],
   "source": [
    "class Pixels_to_Unit(BaseEstimator, TransformerMixin):\n",
    "    def __init__(self):\n",
    "        pass\n",
    "\n",
    "    def fit(self, X, y=None):\n",
    "        return self\n",
    "\n",
    "    def transform(self, X):\n",
    "        return X/255.0\n",
    "\n",
    "\n",
    "class ExtractFeaturesTransformer(BaseEstimator, TransformerMixin):\n",
    "    def __init__(self, theta=0.1):\n",
    "        self.theta = theta\n",
    "\n",
    "    def fit(self, X, y=None):\n",
    "        return self # return fun_feat_extract(X, theta = self.theta)\n",
    "\n",
    "    def transform(self, X):\n",
    "        \n",
    "        def fun_feat_extract(data, theta=0.1):\n",
    "            # data: dataframe\n",
    "            # theta: parameter of the feature extraction\n",
    "            #\n",
    "            features = np.zeros([data.shape[0], 8]) #<- allocate memory with zeros\n",
    "            data = data.values.reshape([data.shape[0],28,28]) \n",
    "            #-> axis 0: id of instance, axis 1: width(cols) , axis 2: height(rows)\n",
    "            for k in range(data.shape[0]):\n",
    "                #..current image \n",
    "                x = data[k,:,:]\n",
    "                #--width feature\n",
    "                sum_cols = x.sum(axis=0) #<- axis0 of x, not of data!!\n",
    "                indc = np.argwhere(sum_cols > theta * sum_cols.max())\n",
    "                col_3maxs = np.argsort(sum_cols)[-3:] \n",
    "                features[k,0] = indc[-1] - indc[0]\n",
    "                features[k,1:4] = col_3maxs\n",
    "                #--width feature\n",
    "                sum_rows = x.sum(axis=1) #<- axis1 of x, not of data!!\n",
    "                indr = np.argwhere(sum_rows > theta * sum_rows.max())\n",
    "                features[k,4] = indr[-1] - indr[0]\n",
    "                row_3maxs = np.argsort(sum_rows)[-3:] \n",
    "                features[k,5:8] = row_3maxs\n",
    "            col_names = ['width','W_max1','W_max2','W_max3','height','H_max1','H_max2','H_max3']\n",
    "            return pd.DataFrame(features,columns = col_names)  \n",
    "    \n",
    "        return fun_feat_extract(X, theta = self.theta)   \n",
    "#---------------------------------------------------------------------------------------\n",
    "\n",
    "class FeatureAreaTransformer(BaseEstimator, TransformerMixin):\n",
    "    def __init__(self):\n",
    "        pass\n",
    "\n",
    "    def fit(self, X, y=None):\n",
    "        return self # return get_feat_area(X)\n",
    "\n",
    "    def transform(self, X):\n",
    "        \n",
    "        def get_feat_area(features):\n",
    "            values = features['width'] * features['height']\n",
    "            return pd.DataFrame({'area':values})\n",
    "        \n",
    "        return get_feat_area(X)\n",
    "    \n",
    "#---------------------------------------------------------------------------------------\n",
    "\n",
    "class FeatureWoverHTransformer(BaseEstimator, TransformerMixin):\n",
    "    def __init__(self):\n",
    "        pass\n",
    "\n",
    "    def fit(self, X, y=None):\n",
    "        return self # return get_feat_WoverH(X)\n",
    "\n",
    "    def transform(self, X):\n",
    "\n",
    "        def get_feat_WoverH(features):\n",
    "            values = features['width'] / features['height']\n",
    "            values = values.round(decimals=2)\n",
    "            return pd.DataFrame({'WoverH':values})  \n",
    "\n",
    "        return get_feat_WoverH(X) "
   ]
  },
  {
   "cell_type": "code",
   "execution_count": 3,
   "id": "c1576e87-50cf-4534-bb55-20cf721d900a",
   "metadata": {},
   "outputs": [],
   "source": [
    "preprocess = []    #--------------\n",
    "\n",
    "scaler1 = Pixels_to_Unit()\n",
    "preprocess.append(('scaler1', scaler1))\n",
    "\n",
    "theta = 0.05 #<-it ranges in [0,.5]\n",
    "extractor = ExtractFeaturesTransformer(theta=theta)\n",
    "preprocess.append( ('extractor', extractor) )\n",
    "pipe1 = Pipeline(preprocess)\n",
    "\n",
    "more_features = [] #--------------\n",
    "\n",
    "poly_degree = 2\n",
    "polyfeat = PolynomialFeatures(poly_degree).set_output(transform=\"pandas\")\n",
    "more_features.append( ('addPolyFeat', polyfeat) )\n",
    "              \n",
    "more_features.append( ('addArea', FeatureAreaTransformer()) )\n",
    "\n",
    "more_features.append( ('addWoverH', FeatureWoverHTransformer()) )\n",
    "\n",
    "pipe2 = FeatureUnion(more_features)\n",
    "\n",
    "LLEprocess = []  #--------------\n",
    "\n",
    "n_components = 2\n",
    "n_neighbors = 50\n",
    "random_state = 1234\n",
    "max_iter = 200\n",
    "LLEprocess.append((\n",
    "    'lle',\n",
    "     LocallyLinearEmbedding(n_neighbors=n_neighbors, n_components=n_components,\n",
    "                            max_iter=max_iter, random_state=random_state).set_output(transform='pandas') )\n",
    ")\n",
    "\n",
    "scaler2 = MinMaxScaler().set_output(transform='pandas')\n",
    "LLEprocess.append( ('scaler2', scaler2) )\n",
    "\n",
    "pipe3 = Pipeline(LLEprocess)\n",
    "\n",
    "pipe_Data = Pipeline([('pipe1',pipe1),('pipe2',pipe2),('pipe3',pipe3)])"
   ]
  },
  {
   "cell_type": "code",
   "execution_count": 4,
   "id": "75f3ac98-339b-40e3-b746-359db80dc404",
   "metadata": {},
   "outputs": [],
   "source": [
    "pipe_Data.fit(X_train_init)\n",
    "X_train_2D = pipe_Data.transform(X_train_init)"
   ]
  },
  {
   "cell_type": "code",
   "execution_count": 5,
   "id": "9af11c44-9b4d-4d5d-a960-20e03caf9bc3",
   "metadata": {},
   "outputs": [],
   "source": [
    "kernel = 'rbf' #<- 'linear', 'poly', 'rbf', 'sigmoid'\n",
    "C = 0.01\n",
    "degree = 1\n",
    "\n",
    "pipe_Clf = Pipeline([('clf_SVM', SVC(kernel=kernel, degree=degree, C=C))])"
   ]
  },
  {
   "cell_type": "code",
   "execution_count": 6,
   "id": "c4d094ba-33d0-4aa9-b537-a848824a0966",
   "metadata": {},
   "outputs": [
    {
     "name": "stderr",
     "output_type": "stream",
     "text": [
      "C:\\Users\\alfredo.cuesta\\AppData\\Roaming\\Python\\Python39\\site-packages\\sklearn\\utils\\validation.py:1184: DataConversionWarning: A column-vector y was passed when a 1d array was expected. Please change the shape of y to (n_samples, ), for example using ravel().\n",
      "  y = column_or_1d(y, warn=True)\n"
     ]
    }
   ],
   "source": [
    "pipe_Clf.fit(X_train_2D, Y_train_init)\n",
    "y_hat= pipe_Clf.predict(X_train_2D)"
   ]
  },
  {
   "cell_type": "code",
   "execution_count": 8,
   "id": "d210ca9a-4127-4c6b-9b5b-00a31b864599",
   "metadata": {
    "tags": []
   },
   "outputs": [
    {
     "name": "stderr",
     "output_type": "stream",
     "text": [
      "C:\\Users\\alfredo.cuesta\\AppData\\Roaming\\Python\\Python39\\site-packages\\sklearn\\base.py:464: UserWarning: X does not have valid feature names, but SVC was fitted with feature names\n",
      "  warnings.warn(\n"
     ]
    },
    {
     "data": {
      "image/png": "[encoded data removed]",
      "text/plain": [
       "<Figure size 432x432 with 1 Axes>"
      ]
     },
     "metadata": {
      "needs_background": "light"
     },
     "output_type": "display_data"
    },
    {
     "name": "stdout",
     "output_type": "stream",
     "text": [
      "Confusion matrix:\n",
      "      0    1\n",
      "0  242   57\n",
      "1   35  336\n"
     ]
    }
   ],
   "source": [
    "ind0 = Y_train_init.isin([0]).values.ravel()\n",
    "ind1 = Y_train_init.isin([1]).values.ravel()\n",
    "ax = X_train_2D[ind0].plot(kind=\"scatter\", x=\"locallylinearembedding0\",y=\"locallylinearembedding1\",\n",
    "                           alpha=0.5, color='b',marker='o')\n",
    "ax = X_train_2D[ind1].plot(kind=\"scatter\", x=\"locallylinearembedding0\",y=\"locallylinearembedding1\",\n",
    "                           alpha=0.5, color='r',marker='x', ax=ax)\n",
    "\n",
    "Ns = 50\n",
    "rangeX0 = np.linspace(0, 1, Ns)\n",
    "rangeX1 = np.linspace(0, 1, Ns)\n",
    "[XX0, XX1] = np.meshgrid(rangeX0, rangeX1)\n",
    "X0 = np.expand_dims(XX0.ravel(), axis=0)\n",
    "X1 = np.expand_dims(XX1.ravel(), axis=0)\n",
    "X = np.vstack((X0,X1))\n",
    "y_backg = pipe_Clf.predict(X.T).reshape(Ns,Ns)\n",
    "ax.imshow(y_backg, extent=[0,1,0,1], alpha=0.2, origin='lower', cmap='cool')\n",
    "strTitle = r\"$C$ = %1.2f\"%(C)\n",
    "ax.set_title(strTitle)\n",
    "plt.rcParams['figure.figsize'] = [7,7]\n",
    "plt.show()\n",
    "print('Confusion matrix:\\n',pd.DataFrame(confusion_matrix(Y_train_init, y_hat)))"
   ]
  }
 ],
 "metadata": {
  "kernelspec": {
   "display_name": "Python 3 (ipykernel)",
   "language": "python",
   "name": "python3"
  },
  "language_info": {
   "codemirror_mode": {
    "name": "ipython",
    "version": 3
   },
   "file_extension": ".py",
   "mimetype": "text/x-python",
   "name": "python",
   "nbconvert_exporter": "python",
   "pygments_lexer": "ipython3",
   "version": "3.9.7"
  }
 },
 "nbformat": 4,
 "nbformat_minor": 5
}
