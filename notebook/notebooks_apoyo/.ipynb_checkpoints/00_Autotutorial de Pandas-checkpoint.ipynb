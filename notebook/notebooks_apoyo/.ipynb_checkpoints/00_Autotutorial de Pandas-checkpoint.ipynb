{
 "cells": [
  {
   "cell_type": "markdown",
   "metadata": {},
   "source": [
    "# Autotutorial de Pandas"
   ]
  },
  {
   "cell_type": "code",
   "execution_count": null,
   "metadata": {},
   "outputs": [],
   "source": [
    "#-- ALGUNOS MODULOS QUE VAMOS A NECESITAR\n",
    "import numpy  as np\n",
    "import pandas as pd\n",
    "from matplotlib import pyplot as plt"
   ]
  },
  {
   "cell_type": "markdown",
   "metadata": {
    "tags": []
   },
   "source": [
    "### Leyendo un conjunto de datos en formato CSV con Pandas\n",
    "* Es importante recordar que no siempre es necesario usar Pandas. Depende del formato en el que nos lleguen los datos. \n",
    "* En este caso tenemos una fila por cada imagen 0 ó 1 "
   ]
  },
  {
   "cell_type": "code",
   "execution_count": null,
   "metadata": {},
   "outputs": [],
   "source": [
    "#[read_csv]- Leer un fichero CSV en un dataframe \n",
    "FullSet_0 = pd.read_csv('../Datasets/1000ceros.csv', header=None)\n",
    "FullSet_1 = pd.read_csv('../Datasets/1000unos.csv',  header=None)"
   ]
  },
  {
   "cell_type": "code",
   "execution_count": null,
   "metadata": {},
   "outputs": [],
   "source": [
    "#[shape]- Mostrar las dimensiones de FullSet_0\n",
    "FullSet_0.shape\n",
    "#--fijate que shape no lleva paréntesis porque es un atributo del dataframe"
   ]
  },
  {
   "cell_type": "code",
   "execution_count": null,
   "metadata": {
    "tags": []
   },
   "outputs": [],
   "source": [
    "#[head]- Mostrar la cabecera de FullSet_0 con las 8 primeras filas\n",
    "FullSet_0.head(8)"
   ]
  },
  {
   "cell_type": "markdown",
   "metadata": {
    "tags": []
   },
   "source": [
    "### Selección de filas y columnas"
   ]
  },
  {
   "cell_type": "code",
   "execution_count": null,
   "metadata": {},
   "outputs": [],
   "source": [
    "#[iloc]- Seleccionar la fila 0 de FullSet_0, es decir el primer ejemplo de este dataframe\n",
    "x_version1 = FullSet_0[0:1]    \n",
    "x_version2 = FullSet_0.iloc[0]\n",
    "# La version 1 devuelve un dataframe con 1 sola fila\n",
    "# La version 2 devuelve una 'serie' de Pandas\n",
    "x_version1 #<- cambia 1 por 2 para ver la diferencia"
   ]
  },
  {
   "cell_type": "code",
   "execution_count": null,
   "metadata": {},
   "outputs": [],
   "source": [
    "#[iloc]- Seleccionar varias filas de FullSet_0\n",
    "subsetX_ver1 = FullSet_0[3:9]\n",
    "subsetX_ver2 = FullSet_0.iloc[3:9]\n",
    "# Recordar que el límite superior del intervalo es 'abierto', es decir 'no entra'\n",
    "# En este caso las dos versiones son iguales porque al haber más de una serie se devuelve siempre un dataframe\n",
    "subsetX_ver1 #<- cambia 1 por 2 para ver la diferencia"
   ]
  },
  {
   "cell_type": "code",
   "execution_count": null,
   "metadata": {},
   "outputs": [],
   "source": [
    "#[iloc]- Seleccionar todos los ejemplos del atributo (columna) número 180 de FullSet_0 \n",
    "atrib_ver1 = FullSet_0[180]\n",
    "atrib_ver2 = FullSet_0[:][180]\n",
    "# En ambos casos devuelve una serie. Si queremos un dataframe debemos usar iloc (siguiente celda)\n",
    "atrib_ver1 #<- cambia 1 por 2 para ver que no hay diferencia"
   ]
  },
  {
   "cell_type": "code",
   "execution_count": null,
   "metadata": {},
   "outputs": [],
   "source": [
    "#[iloc]- Seleccionar ciertos atributos de varios ejemplos\n",
    "X1 = FullSet_0.iloc[range(10,20)][range(5,15)]\n",
    "X2 = FullSet_0.iloc[[0,2,4,6,8]][[20,40,60,80]]\n",
    "# La mejor manera (y la más parecida a trabajar con Matlab) es utilizar iloc seguido \n",
    "#  de una lista con los indices de las filas \n",
    "#  y otra lista con los indices de las columnas\n",
    "X1 #<- cambia 1 por 2 para ver cada \"sub\"dataframe"
   ]
  },
  {
   "cell_type": "markdown",
   "metadata": {
    "tags": []
   },
   "source": [
    "### Accediendo a los valores para poder visualizarlos\n",
    "* Matplotlib puede dibujar mostrar líneas e incluso imágenes almacenadas en dataframes directamente. \n",
    "* Sin embargo, en este caso, cada imagen ocupa 1 fila del dataset. \n",
    "    * Podemos usar plot para ver la serie de valores\n",
    "    * pero para ver la imagen debemos cambiarla a su resolución original (28x28) \n",
    "    * Numpy tiene el método 'reshape' pero ¿podemos utilizarlo aquí?"
   ]
  },
  {
   "cell_type": "code",
   "execution_count": null,
   "metadata": {},
   "outputs": [],
   "source": [
    "#-Vamos a comenzar intentando mostrar x_version1 directamente\n",
    "plt.imshow(x_version1)\n",
    "# No vemos nada porque es una serie (una única fila) y por tanto la imagen sólo tiene 1 pixel de alto"
   ]
  },
  {
   "cell_type": "code",
   "execution_count": null,
   "metadata": {},
   "outputs": [],
   "source": [
    "#-Vamos a intentar cambiar la resolución de x_version1, de 1x784 a 28x28\n",
    "x_version1.reshape([28,28])\n",
    "# Si lo has ejecutado, verás que devuelve un error!. "
   ]
  },
  {
   "cell_type": "code",
   "execution_count": null,
   "metadata": {},
   "outputs": [],
   "source": [
    "#[values]- Para obtener un numpy array de un dataframe o de una serie tenemos que acceder a sus valores\n",
    "# Una vez que tenemos el numpy array ¡ ya podemos hacer el reshape !\n",
    "x_version1.values.reshape([28,28])"
   ]
  },
  {
   "cell_type": "markdown",
   "metadata": {
    "jp-MarkdownHeadingCollapsed": true,
    "tags": []
   },
   "source": [
    "### Comentarios\n",
    "* En este ejemplo el dataframe creado no tenía nombres ni en las filas ni en las columnas. \n",
    "* En problemas de Machine Learning, en general, es frecuente que al menos las columnas, es decir los atributos, sí tengan nombre.\n",
    "* Sin embargo en problemas de visión artificial, cuando trabajamos con imágenes, lo habitual es no tener nombres para los atributos.\n",
    "* Además, una imagen a color tiene 3 canales (R,G,B) de manera que si recibimos un fichero de imágenes en formato CSV nos deben explicar de que manera se han guardado y la resolución de estas, para poder hacer reshape adecuadamete."
   ]
  },
  {
   "cell_type": "markdown",
   "metadata": {
    "tags": []
   },
   "source": [
    "### Ejercicios"
   ]
  },
  {
   "cell_type": "code",
   "execution_count": null,
   "metadata": {
    "scrolled": true
   },
   "outputs": [],
   "source": [
    "#-Sustituye el XXXXXXX para que se muestre la imagen de x_version1 en la instrucción de abajo\n",
    "plt.imshow( XXXXXXXX )"
   ]
  },
  {
   "cell_type": "code",
   "execution_count": null,
   "metadata": {},
   "outputs": [],
   "source": [
    "#-Crear un dataframe llamado X0_train con 500 ejemplos aleatorios y no repetidos de FullSet_0\n",
    "# AYUDA: Prueba a ejecutar el siguiente código\n",
    "# # from random import shuffle\n",
    "# # L = list(range(10))\n",
    "# # shuffle(L)\n",
    "# # R=L[0:6]\n",
    "# # print(R)"
   ]
  },
  {
   "cell_type": "code",
   "execution_count": null,
   "metadata": {},
   "outputs": [],
   "source": [
    "#-Mostrar una imagen de X0_train, que se pueda seleccionar con la variable img_sel\n",
    "img_sel = 123\n",
    "## resto del codigo a continuacion ##"
   ]
  },
  {
   "cell_type": "code",
   "execution_count": null,
   "metadata": {},
   "outputs": [],
   "source": [
    "#-Crear un dataframe llamado X_train que contenga \n",
    "# 500 ejemplos aleatorios de FullSet_0\n",
    "# y 500 ejemplos aleatorios de FullSet_1\n",
    "#-A continuación crear otro dataframe llamado X_test que contenga\n",
    "# los 500 ejemplos no usados de FullSet_0\n",
    "# y los 500 ejemplos no usado de FullSet_1"
   ]
  }
 ],
 "metadata": {
  "kernelspec": {
   "display_name": "Python 3 (ipykernel)",
   "language": "python",
   "name": "python3"
  },
  "language_info": {
   "codemirror_mode": {
    "name": "ipython",
    "version": 3
   },
   "file_extension": ".py",
   "mimetype": "text/x-python",
   "name": "python",
   "nbconvert_exporter": "python",
   "pygments_lexer": "ipython3",
   "version": "3.9.7"
  }
 },
 "nbformat": 4,
 "nbformat_minor": 4
}
