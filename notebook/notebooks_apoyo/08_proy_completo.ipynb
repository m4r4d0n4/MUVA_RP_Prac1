{
 "cells": [
  {
   "cell_type": "markdown",
   "id": "4b90367f-ebeb-4983-a5ba-aa446cd7cb7b",
   "metadata": {},
   "source": [
    "# Proyecto básico completo"
   ]
  },
  {
   "cell_type": "markdown",
   "id": "cbb48872-b26a-45c6-9466-77e5b375ec58",
   "metadata": {
    "jp-MarkdownHeadingCollapsed": true,
    "tags": []
   },
   "source": [
    "## 1. Imports y cargar datos\n",
    "Utilizamos las imágenes de {'setX_0vs1.csv','setY_0vs1.csv'}"
   ]
  },
  {
   "cell_type": "code",
   "execution_count": 1,
   "id": "98e4baa1-1ac9-4756-b931-c10aa60632c5",
   "metadata": {},
   "outputs": [],
   "source": [
    "import numpy as np\n",
    "import pandas as pd\n",
    "from sklearn.decomposition import PCA\n",
    "from sklearn.model_selection import train_test_split\n",
    "from sklearn.preprocessing import StandardScaler, MinMaxScaler, PolynomialFeatures\n",
    "from sklearn.manifold import LocallyLinearEmbedding, Isomap, TSNE\n",
    "from sklearn.pipeline import FeatureUnion, Pipeline\n",
    "from sklearn.preprocessing import FunctionTransformer\n",
    "from sklearn.base import BaseEstimator, TransformerMixin\n",
    "from sklearn.linear_model import LinearRegression, LogisticRegression, Perceptron\n",
    "from sklearn.svm import LinearSVC, NuSVC, LinearSVR, NuSVR, SVC\n",
    "from sklearn.metrics import confusion_matrix, precision_recall_curve, roc_curve\n",
    "import matplotlib.pyplot as plt\n",
    "\n",
    "#########################################################################\n",
    "\n",
    "pathStr = \"../datasets/\"\n",
    "[file_X, file_Y] = [pathStr+'setX_0vs1.csv', pathStr+'setY_0vs1.csv']\n",
    "X_init = pd.read_csv(file_X, sep=';', header=None, dtype=int)\n",
    "Y_init = pd.read_csv(file_Y, sep=';', header=None, dtype=int)\n",
    "\n",
    "X_train_init, X_test_init, Y_train_init, Y_test_init = train_test_split(X_init, Y_init, test_size=0.33, random_state=1234)"
   ]
  },
  {
   "cell_type": "markdown",
   "id": "182fce4a-090e-40a5-b598-97455adf8369",
   "metadata": {
    "tags": []
   },
   "source": [
    "## 2. Pipeline todo el proceso desde que se recibe el dato hasta que se estima el valor objetivo"
   ]
  },
  {
   "cell_type": "markdown",
   "id": "ed78a4b8-4ea1-4a9a-ab9c-d8a0c6b3b285",
   "metadata": {
    "jp-MarkdownHeadingCollapsed": true,
    "tags": []
   },
   "source": [
    "### Clases para encapsular los transformadores"
   ]
  },
  {
   "cell_type": "code",
   "execution_count": 2,
   "id": "311bdebe-a8b1-4d9a-9f69-70e0a2c70959",
   "metadata": {},
   "outputs": [],
   "source": [
    "class Pixels_to_Unit(BaseEstimator, TransformerMixin):\n",
    "    def __init__(self):\n",
    "        pass\n",
    "\n",
    "    def fit(self, X, y=None):\n",
    "        return self\n",
    "\n",
    "    def transform(self, X):\n",
    "        return X/255.0\n",
    "\n",
    "\n",
    "class ExtractFeaturesTransformer(BaseEstimator, TransformerMixin):\n",
    "    def __init__(self, theta=0.1):\n",
    "        self.theta = theta\n",
    "\n",
    "    def fit(self, X, y=None):\n",
    "        return self # return fun_feat_extract(X, theta = self.theta)\n",
    "\n",
    "    def transform(self, X):\n",
    "        \n",
    "        def fun_feat_extract(data, theta=0.1):\n",
    "            # data: dataframe\n",
    "            # theta: parameter of the feature extraction\n",
    "            #\n",
    "            features = np.zeros([data.shape[0], 8]) #<- allocate memory with zeros\n",
    "            data = data.values.reshape([data.shape[0],28,28]) \n",
    "            #-> axis 0: id of instance, axis 1: width(cols) , axis 2: height(rows)\n",
    "            for k in range(data.shape[0]):\n",
    "                #..current image \n",
    "                x = data[k,:,:]\n",
    "                #--width feature\n",
    "                sum_cols = x.sum(axis=0) #<- axis0 of x, not of data!!\n",
    "                indc = np.argwhere(sum_cols > theta * sum_cols.max())\n",
    "                col_3maxs = np.argsort(sum_cols)[-3:] \n",
    "                features[k,0] = indc[-1] - indc[0]\n",
    "                features[k,1:4] = col_3maxs\n",
    "                #--width feature\n",
    "                sum_rows = x.sum(axis=1) #<- axis1 of x, not of data!!\n",
    "                indr = np.argwhere(sum_rows > theta * sum_rows.max())\n",
    "                features[k,4] = indr[-1] - indr[0]\n",
    "                row_3maxs = np.argsort(sum_rows)[-3:] \n",
    "                features[k,5:8] = row_3maxs\n",
    "            col_names = ['width','W_max1','W_max2','W_max3','height','H_max1','H_max2','H_max3']\n",
    "            return pd.DataFrame(features,columns = col_names)  \n",
    "    \n",
    "        return fun_feat_extract(X, theta = self.theta)   \n",
    "#---------------------------------------------------------------------------------------\n",
    "\n",
    "class FeatureAreaTransformer(BaseEstimator, TransformerMixin):\n",
    "    def __init__(self):\n",
    "        pass\n",
    "\n",
    "    def fit(self, X, y=None):\n",
    "        return self # return get_feat_area(X)\n",
    "\n",
    "    def transform(self, X):\n",
    "        \n",
    "        def get_feat_area(features):\n",
    "            values = features['width'] * features['height']\n",
    "            return pd.DataFrame({'area':values})\n",
    "        \n",
    "        return get_feat_area(X)\n",
    "    \n",
    "#---------------------------------------------------------------------------------------\n",
    "\n",
    "class FeatureWoverHTransformer(BaseEstimator, TransformerMixin):\n",
    "    def __init__(self):\n",
    "        pass\n",
    "\n",
    "    def fit(self, X, y=None):\n",
    "        return self # return get_feat_WoverH(X)\n",
    "\n",
    "    def transform(self, X):\n",
    "\n",
    "        def get_feat_WoverH(features):\n",
    "            values = features['width'] / features['height']\n",
    "            values = values.round(decimals=2)\n",
    "            return pd.DataFrame({'WoverH':values})  \n",
    "\n",
    "        return get_feat_WoverH(X) "
   ]
  },
  {
   "cell_type": "markdown",
   "id": "42510a51-77e1-4bf7-b358-1e5f80b6ac6b",
   "metadata": {},
   "source": [
    "### Pipeline de transformación de datos"
   ]
  },
  {
   "cell_type": "code",
   "execution_count": 3,
   "id": "a2d5b4f3-2f8b-4f2c-82f2-f6c6d09e3f79",
   "metadata": {},
   "outputs": [],
   "source": [
    "preprocess = []    #--------------\n",
    "\n",
    "scaler1 = Pixels_to_Unit()\n",
    "preprocess.append(('scaler1', scaler1))\n",
    "\n",
    "theta = 0.05 #<-it ranges in [0,.5]\n",
    "extractor = ExtractFeaturesTransformer(theta=theta)\n",
    "preprocess.append( ('extractor', extractor) )\n",
    "pipe1 = Pipeline(preprocess)\n",
    "\n",
    "more_features = [] #--------------\n",
    "\n",
    "poly_degree = 2\n",
    "polyfeat = PolynomialFeatures(poly_degree).set_output(transform=\"pandas\")\n",
    "more_features.append( ('addPolyFeat', polyfeat) )\n",
    "              \n",
    "more_features.append( ('addArea', FeatureAreaTransformer()) )\n",
    "\n",
    "more_features.append( ('addWoverH', FeatureWoverHTransformer()) )\n",
    "\n",
    "pipe2 = FeatureUnion(more_features)\n",
    "\n",
    "lastprocess = []  #--------------\n",
    "\n",
    "scaler2 = MinMaxScaler().set_output(transform='pandas')\n",
    "lastprocess.append( ('scaler2', scaler2) )\n",
    "\n",
    "n_components = 2\n",
    "n_neighbors = 40\n",
    "random_state = 1234\n",
    "max_iter = 200\n",
    "lastprocess.append((\n",
    "    'lle',\n",
    "     LocallyLinearEmbedding(n_neighbors=n_neighbors, n_components=n_components,\n",
    "                            max_iter=max_iter, random_state=random_state).set_output(transform='pandas') )\n",
    ")\n",
    "\n",
    "pipe3 = Pipeline(lastprocess)"
   ]
  },
  {
   "cell_type": "markdown",
   "id": "9da18c19-2bce-46c0-99ee-c7a26bc9a3c1",
   "metadata": {
    "tags": []
   },
   "source": [
    "### Pipeline del modelo"
   ]
  },
  {
   "cell_type": "code",
   "execution_count": 4,
   "id": "61fc5c35-289b-4f0f-bbc9-70542644c6ef",
   "metadata": {},
   "outputs": [],
   "source": [
    "pipeCLF = Pipeline([('clf_LR', LogisticRegression())])"
   ]
  },
  {
   "cell_type": "markdown",
   "id": "ea4538eb-05e6-4928-9904-54ef7dbfdc38",
   "metadata": {
    "tags": []
   },
   "source": [
    "### Pipeline completo = datos + modelo"
   ]
  },
  {
   "cell_type": "code",
   "execution_count": 8,
   "id": "b2231876-3861-4bb1-936f-3fa4291f03ce",
   "metadata": {
    "tags": []
   },
   "outputs": [
    {
     "data": {
      "text/html": [
       "<style>#sk-container-id-2 {color: black;}#sk-container-id-2 pre{padding: 0;}#sk-container-id-2 div.sk-toggleable {background-color: white;}#sk-container-id-2 label.sk-toggleable__label {cursor: pointer;display: block;width: 100%;margin-bottom: 0;padding: 0.3em;box-sizing: border-box;text-align: center;}#sk-container-id-2 label.sk-toggleable__label-arrow:before {content: \"▸\";float: left;margin-right: 0.25em;color: #696969;}#sk-container-id-2 label.sk-toggleable__label-arrow:hover:before {color: black;}#sk-container-id-2 div.sk-estimator:hover label.sk-toggleable__label-arrow:before {color: black;}#sk-container-id-2 div.sk-toggleable__content {max-height: 0;max-width: 0;overflow: hidden;text-align: left;background-color: #f0f8ff;}#sk-container-id-2 div.sk-toggleable__content pre {margin: 0.2em;color: black;border-radius: 0.25em;background-color: #f0f8ff;}#sk-container-id-2 input.sk-toggleable__control:checked~div.sk-toggleable__content {max-height: 200px;max-width: 100%;overflow: auto;}#sk-container-id-2 input.sk-toggleable__control:checked~label.sk-toggleable__label-arrow:before {content: \"▾\";}#sk-container-id-2 div.sk-estimator input.sk-toggleable__control:checked~label.sk-toggleable__label {background-color: #d4ebff;}#sk-container-id-2 div.sk-label input.sk-toggleable__control:checked~label.sk-toggleable__label {background-color: #d4ebff;}#sk-container-id-2 input.sk-hidden--visually {border: 0;clip: rect(1px 1px 1px 1px);clip: rect(1px, 1px, 1px, 1px);height: 1px;margin: -1px;overflow: hidden;padding: 0;position: absolute;width: 1px;}#sk-container-id-2 div.sk-estimator {font-family: monospace;background-color: #f0f8ff;border: 1px dotted black;border-radius: 0.25em;box-sizing: border-box;margin-bottom: 0.5em;}#sk-container-id-2 div.sk-estimator:hover {background-color: #d4ebff;}#sk-container-id-2 div.sk-parallel-item::after {content: \"\";width: 100%;border-bottom: 1px solid gray;flex-grow: 1;}#sk-container-id-2 div.sk-label:hover label.sk-toggleable__label {background-color: #d4ebff;}#sk-container-id-2 div.sk-serial::before {content: \"\";position: absolute;border-left: 1px solid gray;box-sizing: border-box;top: 0;bottom: 0;left: 50%;z-index: 0;}#sk-container-id-2 div.sk-serial {display: flex;flex-direction: column;align-items: center;background-color: white;padding-right: 0.2em;padding-left: 0.2em;position: relative;}#sk-container-id-2 div.sk-item {position: relative;z-index: 1;}#sk-container-id-2 div.sk-parallel {display: flex;align-items: stretch;justify-content: center;background-color: white;position: relative;}#sk-container-id-2 div.sk-item::before, #sk-container-id-2 div.sk-parallel-item::before {content: \"\";position: absolute;border-left: 1px solid gray;box-sizing: border-box;top: 0;bottom: 0;left: 50%;z-index: -1;}#sk-container-id-2 div.sk-parallel-item {display: flex;flex-direction: column;z-index: 1;position: relative;background-color: white;}#sk-container-id-2 div.sk-parallel-item:first-child::after {align-self: flex-end;width: 50%;}#sk-container-id-2 div.sk-parallel-item:last-child::after {align-self: flex-start;width: 50%;}#sk-container-id-2 div.sk-parallel-item:only-child::after {width: 0;}#sk-container-id-2 div.sk-dashed-wrapped {border: 1px dashed gray;margin: 0 0.4em 0.5em 0.4em;box-sizing: border-box;padding-bottom: 0.4em;background-color: white;}#sk-container-id-2 div.sk-label label {font-family: monospace;font-weight: bold;display: inline-block;line-height: 1.2em;}#sk-container-id-2 div.sk-label-container {text-align: center;}#sk-container-id-2 div.sk-container {/* jupyter's `normalize.less` sets `[hidden] { display: none; }` but bootstrap.min.css set `[hidden] { display: none !important; }` so we also need the `!important` here to be able to override the default hidden behavior on the sphinx rendered scikit-learn.org. See: https://github.com/scikit-learn/scikit-learn/issues/21755 */display: inline-block !important;position: relative;}#sk-container-id-2 div.sk-text-repr-fallback {display: none;}</style><div id=\"sk-container-id-2\" class=\"sk-top-container\"><div class=\"sk-text-repr-fallback\"><pre>Pipeline(steps=[(&#x27;pipe1&#x27;,\n",
       "                 Pipeline(steps=[(&#x27;scaler1&#x27;, Pixels_to_Unit()),\n",
       "                                 (&#x27;extractor&#x27;,\n",
       "                                  ExtractFeaturesTransformer(theta=0.05))])),\n",
       "                (&#x27;pipe2&#x27;,\n",
       "                 FeatureUnion(transformer_list=[(&#x27;addPolyFeat&#x27;,\n",
       "                                                 PolynomialFeatures()),\n",
       "                                                (&#x27;addArea&#x27;,\n",
       "                                                 FeatureAreaTransformer()),\n",
       "                                                (&#x27;addWoverH&#x27;,\n",
       "                                                 FeatureWoverHTransformer())])),\n",
       "                (&#x27;pipe3&#x27;,\n",
       "                 Pipeline(steps=[(&#x27;scaler2&#x27;, MinMaxScaler()),\n",
       "                                 (&#x27;lle&#x27;,\n",
       "                                  LocallyLinearEmbedding(max_iter=200,\n",
       "                                                         n_neighbors=40,\n",
       "                                                         random_state=1234))])),\n",
       "                (&#x27;pipeCLF&#x27;,\n",
       "                 Pipeline(steps=[(&#x27;clf_LR&#x27;, LogisticRegression())]))])</pre><b>In a Jupyter environment, please rerun this cell to show the HTML representation or trust the notebook. <br />On GitHub, the HTML representation is unable to render, please try loading this page with nbviewer.org.</b></div><div class=\"sk-container\" hidden><div class=\"sk-item sk-dashed-wrapped\"><div class=\"sk-label-container\"><div class=\"sk-label sk-toggleable\"><input class=\"sk-toggleable__control sk-hidden--visually\" id=\"sk-estimator-id-12\" type=\"checkbox\" ><label for=\"sk-estimator-id-12\" class=\"sk-toggleable__label sk-toggleable__label-arrow\">Pipeline</label><div class=\"sk-toggleable__content\"><pre>Pipeline(steps=[(&#x27;pipe1&#x27;,\n",
       "                 Pipeline(steps=[(&#x27;scaler1&#x27;, Pixels_to_Unit()),\n",
       "                                 (&#x27;extractor&#x27;,\n",
       "                                  ExtractFeaturesTransformer(theta=0.05))])),\n",
       "                (&#x27;pipe2&#x27;,\n",
       "                 FeatureUnion(transformer_list=[(&#x27;addPolyFeat&#x27;,\n",
       "                                                 PolynomialFeatures()),\n",
       "                                                (&#x27;addArea&#x27;,\n",
       "                                                 FeatureAreaTransformer()),\n",
       "                                                (&#x27;addWoverH&#x27;,\n",
       "                                                 FeatureWoverHTransformer())])),\n",
       "                (&#x27;pipe3&#x27;,\n",
       "                 Pipeline(steps=[(&#x27;scaler2&#x27;, MinMaxScaler()),\n",
       "                                 (&#x27;lle&#x27;,\n",
       "                                  LocallyLinearEmbedding(max_iter=200,\n",
       "                                                         n_neighbors=40,\n",
       "                                                         random_state=1234))])),\n",
       "                (&#x27;pipeCLF&#x27;,\n",
       "                 Pipeline(steps=[(&#x27;clf_LR&#x27;, LogisticRegression())]))])</pre></div></div></div><div class=\"sk-serial\"><div class=\"sk-item\"><div class=\"sk-label-container\"><div class=\"sk-label sk-toggleable\"><input class=\"sk-toggleable__control sk-hidden--visually\" id=\"sk-estimator-id-13\" type=\"checkbox\" ><label for=\"sk-estimator-id-13\" class=\"sk-toggleable__label sk-toggleable__label-arrow\">pipe1: Pipeline</label><div class=\"sk-toggleable__content\"><pre>Pipeline(steps=[(&#x27;scaler1&#x27;, Pixels_to_Unit()),\n",
       "                (&#x27;extractor&#x27;, ExtractFeaturesTransformer(theta=0.05))])</pre></div></div></div><div class=\"sk-serial\"><div class=\"sk-item\"><div class=\"sk-estimator sk-toggleable\"><input class=\"sk-toggleable__control sk-hidden--visually\" id=\"sk-estimator-id-14\" type=\"checkbox\" ><label for=\"sk-estimator-id-14\" class=\"sk-toggleable__label sk-toggleable__label-arrow\">Pixels_to_Unit</label><div class=\"sk-toggleable__content\"><pre>Pixels_to_Unit()</pre></div></div></div><div class=\"sk-item\"><div class=\"sk-estimator sk-toggleable\"><input class=\"sk-toggleable__control sk-hidden--visually\" id=\"sk-estimator-id-15\" type=\"checkbox\" ><label for=\"sk-estimator-id-15\" class=\"sk-toggleable__label sk-toggleable__label-arrow\">ExtractFeaturesTransformer</label><div class=\"sk-toggleable__content\"><pre>ExtractFeaturesTransformer(theta=0.05)</pre></div></div></div></div></div><div class=\"sk-item sk-dashed-wrapped\"><div class=\"sk-label-container\"><div class=\"sk-label sk-toggleable\"><input class=\"sk-toggleable__control sk-hidden--visually\" id=\"sk-estimator-id-16\" type=\"checkbox\" ><label for=\"sk-estimator-id-16\" class=\"sk-toggleable__label sk-toggleable__label-arrow\">pipe2: FeatureUnion</label><div class=\"sk-toggleable__content\"><pre>FeatureUnion(transformer_list=[(&#x27;addPolyFeat&#x27;, PolynomialFeatures()),\n",
       "                               (&#x27;addArea&#x27;, FeatureAreaTransformer()),\n",
       "                               (&#x27;addWoverH&#x27;, FeatureWoverHTransformer())])</pre></div></div></div><div class=\"sk-parallel\"><div class=\"sk-parallel-item\"><div class=\"sk-item\"><div class=\"sk-label-container\"><div class=\"sk-label sk-toggleable\"><label>addPolyFeat</label></div></div><div class=\"sk-serial\"><div class=\"sk-item\"><div class=\"sk-estimator sk-toggleable\"><input class=\"sk-toggleable__control sk-hidden--visually\" id=\"sk-estimator-id-17\" type=\"checkbox\" ><label for=\"sk-estimator-id-17\" class=\"sk-toggleable__label sk-toggleable__label-arrow\">PolynomialFeatures</label><div class=\"sk-toggleable__content\"><pre>PolynomialFeatures()</pre></div></div></div></div></div></div><div class=\"sk-parallel-item\"><div class=\"sk-item\"><div class=\"sk-label-container\"><div class=\"sk-label sk-toggleable\"><label>addArea</label></div></div><div class=\"sk-serial\"><div class=\"sk-item\"><div class=\"sk-estimator sk-toggleable\"><input class=\"sk-toggleable__control sk-hidden--visually\" id=\"sk-estimator-id-18\" type=\"checkbox\" ><label for=\"sk-estimator-id-18\" class=\"sk-toggleable__label sk-toggleable__label-arrow\">FeatureAreaTransformer</label><div class=\"sk-toggleable__content\"><pre>FeatureAreaTransformer()</pre></div></div></div></div></div></div><div class=\"sk-parallel-item\"><div class=\"sk-item\"><div class=\"sk-label-container\"><div class=\"sk-label sk-toggleable\"><label>addWoverH</label></div></div><div class=\"sk-serial\"><div class=\"sk-item\"><div class=\"sk-estimator sk-toggleable\"><input class=\"sk-toggleable__control sk-hidden--visually\" id=\"sk-estimator-id-19\" type=\"checkbox\" ><label for=\"sk-estimator-id-19\" class=\"sk-toggleable__label sk-toggleable__label-arrow\">FeatureWoverHTransformer</label><div class=\"sk-toggleable__content\"><pre>FeatureWoverHTransformer()</pre></div></div></div></div></div></div></div></div><div class=\"sk-item\"><div class=\"sk-label-container\"><div class=\"sk-label sk-toggleable\"><input class=\"sk-toggleable__control sk-hidden--visually\" id=\"sk-estimator-id-20\" type=\"checkbox\" ><label for=\"sk-estimator-id-20\" class=\"sk-toggleable__label sk-toggleable__label-arrow\">pipe3: Pipeline</label><div class=\"sk-toggleable__content\"><pre>Pipeline(steps=[(&#x27;scaler2&#x27;, MinMaxScaler()),\n",
       "                (&#x27;lle&#x27;,\n",
       "                 LocallyLinearEmbedding(max_iter=200, n_neighbors=40,\n",
       "                                        random_state=1234))])</pre></div></div></div><div class=\"sk-serial\"><div class=\"sk-item\"><div class=\"sk-estimator sk-toggleable\"><input class=\"sk-toggleable__control sk-hidden--visually\" id=\"sk-estimator-id-21\" type=\"checkbox\" ><label for=\"sk-estimator-id-21\" class=\"sk-toggleable__label sk-toggleable__label-arrow\">MinMaxScaler</label><div class=\"sk-toggleable__content\"><pre>MinMaxScaler()</pre></div></div></div><div class=\"sk-item\"><div class=\"sk-estimator sk-toggleable\"><input class=\"sk-toggleable__control sk-hidden--visually\" id=\"sk-estimator-id-22\" type=\"checkbox\" ><label for=\"sk-estimator-id-22\" class=\"sk-toggleable__label sk-toggleable__label-arrow\">LocallyLinearEmbedding</label><div class=\"sk-toggleable__content\"><pre>LocallyLinearEmbedding(max_iter=200, n_neighbors=40, random_state=1234)</pre></div></div></div></div></div><div class=\"sk-item\"><div class=\"sk-label-container\"><div class=\"sk-label sk-toggleable\"><input class=\"sk-toggleable__control sk-hidden--visually\" id=\"sk-estimator-id-23\" type=\"checkbox\" ><label for=\"sk-estimator-id-23\" class=\"sk-toggleable__label sk-toggleable__label-arrow\">pipeCLF: Pipeline</label><div class=\"sk-toggleable__content\"><pre>Pipeline(steps=[(&#x27;clf_LR&#x27;, LogisticRegression())])</pre></div></div></div><div class=\"sk-serial\"><div class=\"sk-item\"><div class=\"sk-estimator sk-toggleable\"><input class=\"sk-toggleable__control sk-hidden--visually\" id=\"sk-estimator-id-24\" type=\"checkbox\" ><label for=\"sk-estimator-id-24\" class=\"sk-toggleable__label sk-toggleable__label-arrow\">LogisticRegression</label><div class=\"sk-toggleable__content\"><pre>LogisticRegression()</pre></div></div></div></div></div></div></div></div></div>"
      ],
      "text/plain": [
       "Pipeline(steps=[('pipe1',\n",
       "                 Pipeline(steps=[('scaler1', Pixels_to_Unit()),\n",
       "                                 ('extractor',\n",
       "                                  ExtractFeaturesTransformer(theta=0.05))])),\n",
       "                ('pipe2',\n",
       "                 FeatureUnion(transformer_list=[('addPolyFeat',\n",
       "                                                 PolynomialFeatures()),\n",
       "                                                ('addArea',\n",
       "                                                 FeatureAreaTransformer()),\n",
       "                                                ('addWoverH',\n",
       "                                                 FeatureWoverHTransformer())])),\n",
       "                ('pipe3',\n",
       "                 Pipeline(steps=[('scaler2', MinMaxScaler()),\n",
       "                                 ('lle',\n",
       "                                  LocallyLinearEmbedding(max_iter=200,\n",
       "                                                         n_neighbors=40,\n",
       "                                                         random_state=1234))])),\n",
       "                ('pipeCLF',\n",
       "                 Pipeline(steps=[('clf_LR', LogisticRegression())]))])"
      ]
     },
     "execution_count": 8,
     "metadata": {},
     "output_type": "execute_result"
    }
   ],
   "source": [
    "pipe = Pipeline([('pipe1',pipe1),('pipe2',pipe2),('pipe3',pipe3), ('pipeCLF',pipeCLF) ])\n",
    "pipe"
   ]
  },
  {
   "cell_type": "markdown",
   "id": "8fbdc0b0-28f3-494c-a6fd-e4a73791314a",
   "metadata": {
    "tags": []
   },
   "source": [
    "## 3. Entrenamiento"
   ]
  },
  {
   "cell_type": "code",
   "execution_count": 9,
   "id": "74b6e74a-b76a-4f3a-96ce-0d960fe4fdbe",
   "metadata": {},
   "outputs": [],
   "source": [
    "pipe.fit(X_train_init, Y_train_init)"
   ]
  },
  {
   "cell_type": "markdown",
   "id": "0082f46d-34a0-4640-b26d-a81352c9412b",
   "metadata": {
    "tags": []
   },
   "source": [
    "##  4. Inferencia\n",
    "Vamos a utiliar el conjunto de entrenamiento, no el de test, para ver que tal a aprendido."
   ]
  },
  {
   "cell_type": "code",
   "execution_count": 9,
   "id": "ea25e549-533a-4847-bdca-82b5558e9ed8",
   "metadata": {},
   "outputs": [
    {
     "name": "stderr",
     "output_type": "stream",
     "text": [
      "C:\\Users\\alfredo.cuesta\\AppData\\Roaming\\Python\\Python39\\site-packages\\sklearn\\utils\\validation.py:1184: DataConversionWarning: A column-vector y was passed when a 1d array was expected. Please change the shape of y to (n_samples, ), for example using ravel().\n",
      "  y = column_or_1d(y, warn=True)\n"
     ]
    }
   ],
   "source": [
    "p_hat = pipe.predict_proba(X_train_init)\n",
    "p_hat = p_hat[:,1]"
   ]
  },
  {
   "cell_type": "markdown",
   "id": "71b6af71-aec6-4186-ad5a-779176069342",
   "metadata": {
    "tags": []
   },
   "source": [
    "## 5. Métricas y selección del umbral del clasificador"
   ]
  },
  {
   "cell_type": "code",
   "execution_count": 10,
   "id": "8ca1db76-5b52-4c2d-8d89-05a3b0bcc3fa",
   "metadata": {},
   "outputs": [
    {
     "data": {
      "image/png": "[encoded data removed]",
      "text/plain": [
       "<Figure size 432x288 with 1 Axes>"
      ]
     },
     "metadata": {
      "needs_background": "light"
     },
     "output_type": "display_data"
    }
   ],
   "source": [
    "precision, recall, thresholds = precision_recall_curve(Y_train_init, p_hat)\n",
    "\n",
    "fontsize=16\n",
    "plt.plot(thresholds, precision[1:], 'b', label='Precision', )\n",
    "plt.plot(thresholds, recall[1:], 'r', label='Recall')\n",
    "plt.legend(fontsize=fontsize)\n",
    "plt.xlabel('threshold', fontsize=fontsize)\n",
    "plt.xlabel(r'threshold $\\theta$', fontsize=fontsize)\n",
    "plt.title('Precision vs. Recall curve', fontsize=fontsize)\n",
    "plt.xticks(fontsize=fontsize)\n",
    "plt.yticks(fontsize=fontsize)\n",
    "plt.show()"
   ]
  },
  {
   "cell_type": "code",
   "execution_count": 11,
   "id": "ade4bb41-285a-45b6-9e71-519f9f2d89b8",
   "metadata": {},
   "outputs": [
    {
     "data": {
      "image/png": "[encoded data removed]",
      "text/plain": [
       "<Figure size 432x288 with 1 Axes>"
      ]
     },
     "metadata": {
      "needs_background": "light"
     },
     "output_type": "display_data"
    }
   ],
   "source": [
    "fpr, tpr, thresholds = roc_curve(Y_train_init, p_hat)\n",
    "\n",
    "fontsize=16\n",
    "plt.plot(fpr,tpr)\n",
    "\n",
    "def best_th(fpr, tpr, thresholds):\n",
    "    d2 = []\n",
    "    for x,y,th in zip(fpr, tpr, thresholds):\n",
    "        d2.append(x**2 + (1-y)**2)\n",
    "    ind = np.argwhere(d2==np.min(d2))[0][0]\n",
    "    return thresholds[ind], ind\n",
    "\n",
    "th_star, ind = best_th(fpr, tpr, thresholds)\n",
    "plt.plot(fpr[ind], tpr[ind], 'ro')\n",
    "plt.xlabel('FPR', fontsize=fontsize)\n",
    "plt.ylabel('TPR', fontsize=fontsize)\n",
    "plt.title('ROC', fontsize=fontsize)\n",
    "plt.xticks(fontsize=fontsize)\n",
    "plt.yticks(fontsize=fontsize)\n",
    "plt.annotate(r'$\\theta^*$ = %0.3f'%(th_star), (.12,.8), fontsize=fontsize, c='r')\n",
    "plt.axis('scaled')\n",
    "plt.show()"
   ]
  },
  {
   "cell_type": "code",
   "execution_count": 12,
   "id": "2589588b-d156-44f8-84c4-0a7ce12e5733",
   "metadata": {},
   "outputs": [
    {
     "data": {
      "text/plain": [
       "array([[286,  13],\n",
       "       [ 40, 331]], dtype=int64)"
      ]
     },
     "execution_count": 12,
     "metadata": {},
     "output_type": "execute_result"
    }
   ],
   "source": [
    "Y_hat = p_hat\n",
    "Y_hat[p_hat>=th_star] = 1\n",
    "Y_hat[p_hat<th_star]  = 0\n",
    "\n",
    "confusion_matrix(Y_train_init, Y_hat)\n",
    "\n"
   ]
  },
  {
   "cell_type": "code",
   "execution_count": null,
   "id": "a772ae10-ea07-4f14-b74f-19ae0e6687a6",
   "metadata": {},
   "outputs": [],
   "source": [
    " "
   ]
  },
  {
   "cell_type": "code",
   "execution_count": null,
   "id": "371cde0b-bc35-445b-b44a-2a9daf521103",
   "metadata": {},
   "outputs": [],
   "source": []
  }
 ],
 "metadata": {
  "kernelspec": {
   "display_name": "Python 3 (ipykernel)",
   "language": "python",
   "name": "python3"
  },
  "language_info": {
   "codemirror_mode": {
    "name": "ipython",
    "version": 3
   },
   "file_extension": ".py",
   "mimetype": "text/x-python",
   "name": "python",
   "nbconvert_exporter": "python",
   "pygments_lexer": "ipython3",
   "version": "3.10.4"
  }
 },
 "nbformat": 4,
 "nbformat_minor": 5
}
