{
 "cells": [
  {
   "cell_type": "code",
   "execution_count": 1,
   "id": "336f06f6-df9e-437f-b6fe-66110693ef96",
   "metadata": {},
   "outputs": [],
   "source": [
    "import numpy as np\n",
    "import pandas as pd\n",
    "from sklearn.linear_model import LinearRegression, LogisticRegression, Perceptron\n",
    "from sklearn.svm import LinearSVC, NuSVC, LinearSVR, NuSVR\n",
    "import matplotlib.pyplot as plt\n",
    "#########################################################################\n",
    "\n",
    "Ns = 100\n",
    "offset = 3\n",
    "loc = .3\n",
    "scale = 0.25\n",
    "data_0 = np.random.normal(loc=-loc+offset, scale=scale, size=[Ns,1])\n",
    "label_0 = np.zeros_like(data_0).ravel()\n",
    "data_1 = np.random.normal(loc=loc+offset, scale=scale, size=[Ns,1])\n",
    "label_1 = np.ones_like(data_0).ravel()\n",
    "X_train = np.concatenate((data_0,data_1), axis=0)\n",
    "y_train = np.concatenate((label_0,label_1), axis=0)"
   ]
  },
  {
   "cell_type": "code",
   "execution_count": 2,
   "id": "5e305443-c50a-4b6a-a70d-ca3b7afd6f2d",
   "metadata": {},
   "outputs": [
    {
     "data": {
      "text/plain": [
       "{'penalty': 'l2',\n",
       " 'dual': False,\n",
       " 'tol': 0.0001,\n",
       " 'C': 1.0,\n",
       " 'fit_intercept': True,\n",
       " 'intercept_scaling': 1,\n",
       " 'class_weight': None,\n",
       " 'random_state': None,\n",
       " 'solver': 'lbfgs',\n",
       " 'max_iter': 100,\n",
       " 'multi_class': 'auto',\n",
       " 'verbose': 0,\n",
       " 'warm_start': False,\n",
       " 'n_jobs': None,\n",
       " 'l1_ratio': None,\n",
       " 'n_features_in_': 1,\n",
       " 'classes_': array([0., 1.]),\n",
       " 'n_iter_': array([13]),\n",
       " 'coef_': array([[5.17234744]]),\n",
       " 'intercept_': array([-15.51807882])}"
      ]
     },
     "execution_count": 2,
     "metadata": {},
     "output_type": "execute_result"
    }
   ],
   "source": [
    "model = LogisticRegression()\n",
    "model.fit(X_train, y_train)\n",
    "model.__dict__"
   ]
  },
  {
   "cell_type": "code",
   "execution_count": 3,
   "id": "b4768896-9ecd-4fe9-b847-6686cd721e84",
   "metadata": {},
   "outputs": [],
   "source": [
    "def decision_surf(model,x):\n",
    "    return model.intercept_ + model.coef_*x\n",
    "\n",
    "def logistic_fun(x,w,w0):\n",
    "    y = 1+np.exp(-w0-x*w)\n",
    "    return 1/y"
   ]
  },
  {
   "cell_type": "code",
   "execution_count": 4,
   "id": "15a8baad-91a1-4f56-8f90-2c6091818411",
   "metadata": {
    "tags": []
   },
   "outputs": [
    {
     "data": {
      "image/png": "[encoded data removed]",
      "text/plain": [
       "<Figure size 432x288 with 1 Axes>"
      ]
     },
     "metadata": {
      "needs_background": "light"
     },
     "output_type": "display_data"
    }
   ],
   "source": [
    "fontsize=14\n",
    "alpha=0.2\n",
    "plt.rcParams['figure.figsize'] = [6,4] #<- this makes the figures larger in Jupyter \n",
    "plt.plot(data_0,label_0, 'ro', alpha=alpha)\n",
    "plt.plot(data_1,label_1, 'bx', alpha=alpha)\n",
    "plt.xticks(fontsize=fontsize)\n",
    "plt.yticks(fontsize=fontsize)\n",
    "plt.xlabel('$x$',fontsize=fontsize)\n",
    "plt.ylabel('$y$',fontsize=fontsize)\n",
    "\n",
    "# x_decision  = np.linspace(X_train.min(), X_train.max(), Ns)\n",
    "x_decision  = np.linspace(X_train.min(), X_train.max(), Ns)\n",
    "y_decision  = decision_surf(model, x_decision)\n",
    "y_logistic = model.predict_proba(np.expand_dims(x_decision,axis=1))\n",
    "y_logistic = y_logistic[:,1]\n",
    "plt.plot(x_decision.ravel(), y_decision.ravel(), 'k', alpha=.4)\n",
    "plt.plot(x_decision.ravel(), y_logistic.ravel(), 'k:', linewidth=3)\n",
    "plt.axis([X_train.min(), X_train.max(), -0.1, 1.1])\n",
    "\n",
    "y_fun = logistic_fun(x_decision,model.coef_,model.intercept_).ravel()\n",
    "plt.plot(x_decision,y_fun,'yo', alpha=0.1)\n",
    "\n",
    "plt.show() "
   ]
  },
  {
   "cell_type": "code",
   "execution_count": null,
   "id": "73bea65c-4349-4cac-837f-af693d92c145",
   "metadata": {},
   "outputs": [],
   "source": []
  }
 ],
 "metadata": {
  "kernelspec": {
   "display_name": "Python 3 (ipykernel)",
   "language": "python",
   "name": "python3"
  },
  "language_info": {
   "codemirror_mode": {
    "name": "ipython",
    "version": 3
   },
   "file_extension": ".py",
   "mimetype": "text/x-python",
   "name": "python",
   "nbconvert_exporter": "python",
   "pygments_lexer": "ipython3",
   "version": "3.9.7"
  }
 },
 "nbformat": 4,
 "nbformat_minor": 5
}
